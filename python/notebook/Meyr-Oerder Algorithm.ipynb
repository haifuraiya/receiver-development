{
 "cells": [
  {
   "cell_type": "markdown",
   "id": "6a225761",
   "metadata": {},
   "source": [
    "# Meyr-Oerder Timing Algorithm"
   ]
  },
  {
   "cell_type": "code",
   "execution_count": 2,
   "id": "31ecfaff",
   "metadata": {},
   "outputs": [],
   "source": [
    "%load_ext autoreload\n",
    "%autoreload 2\n",
    "\n",
    "import sys\n",
    "import pprint\n",
    "sys.path.append('../library')\n",
    "import numpy as np\n",
    "import matplotlib.pyplot as plt\n",
    "from fir_filter import FIRFilter\n",
    "from generic_modem import GenericModem\n",
    "from timing_sync_polyphase import TimingSyncPolyphase\n",
    "from utilities import phase_shift"
   ]
  },
  {
   "cell_type": "markdown",
   "id": "bfdf8594",
   "metadata": {},
   "source": [
    "\n",
    "$$ \\hat{\\tau} = \\frac{T}{2 \\pi} arg \\left\\{ \\sum_{k=0}^{N L_0 -1} {| x(k T s) |}^2 e^{-2 \\pi i k/N} \\right\\}  $$\n",
    "\n",
    "where: $\\hat{\\tau}$ is the timing estimate\n",
    "\n",
    "$T$ is the symbol period\n",
    "\n",
    "$N$ is the overs-sampling ratio\n",
    "\n",
    "$L_0$ is the number of symbols used for estimation\n",
    "\n",
    "$T_s$ is the sampling time\n",
    "\n",
    "\n",
    "The above equation shows a squaring operation which is required for an order 2 modulation (ie. BPSK).\n",
    "The simulations below use an order 4 modulation (QPSK) therefore a fourth power is required to remove the modulation from the received signal."
   ]
  },
  {
   "cell_type": "code",
   "execution_count": 40,
   "id": "e5a538f6",
   "metadata": {},
   "outputs": [],
   "source": [
    "def meyr_oerder(signal, L, N=4):\n",
    "\n",
    "    summation = 0\n",
    "    for k, samp in enumerate(signal):\n",
    "        \n",
    "        squared = samp**4\n",
    "        \n",
    "        summation += squared * np.exp(-1j*2*np.pi*k/N)\n",
    "    \n",
    "    return np.angle(summation)/(2*np.pi)"
   ]
  },
  {
   "cell_type": "markdown",
   "id": "3ba2725e",
   "metadata": {},
   "source": [
    "#### Find the Sensitivity\n",
    "\n",
    "Pass a phase shifted signal through the detector to find the sensitivty"
   ]
  },
  {
   "cell_type": "code",
   "execution_count": 41,
   "id": "7097e534",
   "metadata": {
    "scrolled": true
   },
   "outputs": [
    {
     "data": {
      "image/png": "[encoded data removed]",
      "text/plain": [
       "<Figure size 432x288 with 1 Axes>"
      ]
     },
     "metadata": {
      "needs_background": "light"
     },
     "output_type": "display_data"
    }
   ],
   "source": [
    "# create test data\n",
    "data_length = 64*4*8*2\n",
    "data = [np.random.randint(2) for _ in range(data_length)]\n",
    "modem_bpsk_obj = GenericModem(  modulation_type = [\"129\", \"QPSK 2/9\"],\n",
    "                                samples_per_symbol = 4,\n",
    "                                pulse_factor = 0.5,\n",
    "                                pulse_length = 33,\n",
    "                                filename = \"../library/DVB-S2X_constellations.json\")\n",
    "tx = modem_bpsk_obj.modulate(data)\n",
    "\n",
    "# measure sensitivity\n",
    "N = 4\n",
    "sensitivity = []\n",
    "phase     = np.linspace(0,N,64)\n",
    "phase_rad = np.linspace(0,2*np.pi,64)\n",
    "for phase_i in phase:\n",
    "    \n",
    "    signal = phase_shift(tx, phase_i)\n",
    "    sensitivity.append(meyr_oerder(signal, L=data_length, N=N))\n",
    "\n",
    "plt.plot(phase_rad, sensitivity)\n",
    "plt.show()"
   ]
  },
  {
   "cell_type": "markdown",
   "id": "4a2c6869",
   "metadata": {},
   "source": [
    "#### Find the Sensitivity in Noise\n",
    "\n",
    "Perform the operation above again but this time in the presence of noise to examine the behaviour in non-ideal scenarios"
   ]
  },
  {
   "cell_type": "code",
   "execution_count": 36,
   "id": "28a184ed",
   "metadata": {},
   "outputs": [
    {
     "data": {
      "image/png": "[encoded data removed]",
      "text/plain": [
       "<Figure size 432x288 with 1 Axes>"
      ]
     },
     "metadata": {
      "needs_background": "light"
     },
     "output_type": "display_data"
    }
   ],
   "source": [
    "# measure sensitivity\n",
    "N = 4\n",
    "sensitivity = []\n",
    "phase     = np.linspace(0,N,64)\n",
    "phase_rad = np.linspace(0,2*np.pi,64)\n",
    "for phase_i in phase:\n",
    "    \n",
    "    signal = phase_shift(tx, phase_i) + 0.5*(np.random.randn()+1j*np.random.randn())\n",
    "    sensitivity.append(meyr_oerder(signal, L=data_length, N=N))\n",
    "\n",
    "plt.plot(phase_rad, sensitivity)\n",
    "plt.show()"
   ]
  },
  {
   "cell_type": "code",
   "execution_count": null,
   "id": "4cbae34b",
   "metadata": {},
   "outputs": [],
   "source": []
  },
  {
   "cell_type": "code",
   "execution_count": null,
   "id": "55699d34",
   "metadata": {},
   "outputs": [],
   "source": []
  }
 ],
 "metadata": {
  "kernelspec": {
   "display_name": "Python 3",
   "language": "python",
   "name": "python3"
  },
  "language_info": {
   "codemirror_mode": {
    "name": "ipython",
    "version": 3
   },
   "file_extension": ".py",
   "mimetype": "text/x-python",
   "name": "python",
   "nbconvert_exporter": "python",
   "pygments_lexer": "ipython3",
   "version": "3.7.3"
  }
 },
 "nbformat": 4,
 "nbformat_minor": 5
}
